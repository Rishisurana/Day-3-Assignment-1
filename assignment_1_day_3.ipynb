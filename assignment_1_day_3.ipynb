{
  "nbformat": 4,
  "nbformat_minor": 0,
  "metadata": {
    "colab": {
      "name": "assignment 1 day 3.ipynb",
      "provenance": []
    },
    "kernelspec": {
      "name": "python3",
      "display_name": "Python 3"
    }
  },
  "cells": [
    {
      "cell_type": "code",
      "metadata": {
        "id": "g8KKIzncMdBy",
        "colab_type": "code",
        "colab": {
          "base_uri": "https://localhost:8080/",
          "height": 51
        },
        "outputId": "5211adb0-3d67-4cfe-f61e-b903447124cf"
      },
      "source": [
        "plane = int (input(\"What is the height?\") )\n",
        "if plane == 1000:\n",
        "  print(\"Safe to land\")\n",
        "elif plane < 1000:\n",
        "  print(\"Land\")\n",
        "elif plane > 1000 and plane < 5000:\n",
        "  print(\"Bring down to 1000\")\n",
        "else:\n",
        "  print(\"Go around and try later\")\n"
      ],
      "execution_count": 30,
      "outputs": [
        {
          "output_type": "stream",
          "text": [
            "What is the height?60000\n",
            "Go around and try later\n"
          ],
          "name": "stdout"
        }
      ]
    }
  ]
}